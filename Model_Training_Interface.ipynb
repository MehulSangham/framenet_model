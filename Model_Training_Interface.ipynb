{
 "cells": [
  {
   "cell_type": "markdown",
   "id": "ab40745c",
   "metadata": {},
   "source": [
    "\n",
    "This notebook will guide you through the process of training a GPT-2 model on FrameNet data. You will first set up and preprocess the data, then move on to training the model.\n"
   ]
  },
  {
   "cell_type": "markdown",
   "id": "7dd0be7e",
   "metadata": {},
   "source": [
    "\n",
    "In the following cell, the `load_and_process_framenet.py` script is run. This script is responsible for loading and preprocessing the FrameNet data that will be used to train the model.\n"
   ]
  },
  {
   "cell_type": "code",
   "execution_count": null,
   "id": "79747518",
   "metadata": {},
   "outputs": [],
   "source": [
    "%run load_and_process_framenet.py"
   ]
  },
  {
   "cell_type": "markdown",
   "id": "08a7795a",
   "metadata": {},
   "source": [
    "\n",
    "In the next cell, we run the `train_gpt2.py` script which trains the GPT-2 model on the preprocessed data. You can adjust the training parameters at the beginning of the `train_gpt2.py` script.\n"
   ]
  },
  {
   "cell_type": "code",
   "execution_count": null,
   "id": "4ad4692d",
   "metadata": {},
   "outputs": [],
   "source": [
    "%run train_gpt2.py"
   ]
  }
 ],
 "metadata": {},
 "nbformat": 4,
 "nbformat_minor": 5
}
