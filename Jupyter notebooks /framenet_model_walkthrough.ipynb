{
 "cells": [
  {
   "cell_type": "markdown",
   "id": "b659ba56",
   "metadata": {},
   "source": [
    "The README.md file contains useful information on the 'framenet_model' project.\n",
    "\n",
    "The readme file's sections include:\n",
    "- An introduction to the project\n",
    "- The project's directory structure\n",
    "- The requirements \n",
    "- Usage instructions\n",
    "- Using GitHub Codespaces and VS Code Remote - Containers"
   ]
  },
  {
   "cell_type": "markdown",
   "id": "908ffbf7",
   "metadata": {},
   "source": [
    "\n",
    "This repository includes a `.devcontainer` directory that specifies a Python development environment with necessary libraries and Jupyter notebook server, ideally for use with GitHub Codespaces or Visual Studio Code Remote - Containers extension. \n",
    "To set this up:\n",
    "\n",
    "1. Push the `.devcontainer` directory to your GitHub repository.\n",
    "2. Open the repository in a new GitHub Codespace by clicking the 'Code' button on your repository page, then 'Open with Codespaces' and 'New Codespace', or use the Remote - Containers extension in VS Code.\n",
    "3. Github will build the codespace using the Dockerfile in the `.devcontainer` directory. It should start a new session in your browser with VS Code running in the cloud, but with the code in your repository.\n",
    "\n",
    "With the provided Dockerfile, a Jupyter notebook server starts when the Docker container is run. To start it manually, run `jupyter notebook`.\n",
    "\n",
    "Additionally, remember to rebuild the codespace whenever you make changes to the Dockerfile or devcontainer.json. You can do this through the Command Palette (F1 or CMD + Shift + P) by typing 'Rebuild Container'."
   ]
  },
  {
   "cell_type": "code",
   "execution_count": null,
   "id": "8333f129",
   "metadata": {},
   "outputs": [],
   "source": [
    "!pip install -r requirements.txt"
   ]
  },
  {
   "cell_type": "markdown",
   "id": "f5950d69",
   "metadata": {},
   "source": [
    "To run the GPT-2 training script after installing the requirements, use the following command:\n",
    "\n",
    "python train_gpt2.py\n",
    "\n",
    "This will start the process of loading the data, tokenizing it, and fine-tuning the GPT-2 model on it."
   ]
  },
  {
   "cell_type": "code",
   "execution_count": null,
   "id": "eeb01200",
   "metadata": {},
   "outputs": [],
   "source": [
    "python train_gpt2.py"
   ]
  }
 ],
 "metadata": {},
 "nbformat": 4,
 "nbformat_minor": 5
}
